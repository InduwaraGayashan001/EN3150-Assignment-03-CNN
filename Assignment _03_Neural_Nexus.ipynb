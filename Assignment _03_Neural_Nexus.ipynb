{
  "cells": [
    {
      "cell_type": "markdown",
      "source": [
        "#EN3150 Assignment 03: Simple convolutional neural network\n",
        "to perform classification.\n"
      ],
      "metadata": {
        "id": "7eUK4ap9XmQB"
      }
    },
    {
      "cell_type": "markdown",
      "source": [
        "##1 .CNN for image classification"
      ],
      "metadata": {
        "id": "SjUTjsahX56F"
      }
    },
    {
      "cell_type": "code",
      "source": [],
      "metadata": {
        "id": "xsFkmeMkYFG0"
      },
      "execution_count": null,
      "outputs": []
    }
  ],
  "metadata": {
    "language_info": {
      "name": "python"
    },
    "colab": {
      "provenance": []
    }
  },
  "nbformat": 4,
  "nbformat_minor": 0
}