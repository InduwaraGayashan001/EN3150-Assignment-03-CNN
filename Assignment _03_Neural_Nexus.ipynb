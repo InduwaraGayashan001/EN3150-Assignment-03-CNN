{
  "cells": [
    {
      "cell_type": "markdown",
      "source": [
        "#EN3150 Assignment 03: Simple convolutional neural network to perform classification.\n",
        "\n"
      ],
      "metadata": {
        "id": "7eUK4ap9XmQB"
      }
    },
    {
      "cell_type": "markdown",
      "source": [
        "##1 .CNN for image classification"
      ],
      "metadata": {
        "id": "SjUTjsahX56F"
      }
    },
    {
      "cell_type": "markdown",
      "source": [
        "### Mount the google Drive"
      ],
      "metadata": {
        "id": "VRwdhNEOs0-D"
      }
    },
    {
      "cell_type": "code",
      "source": [
        "from google.colab import drive\n",
        "drive.mount('/content/drive')"
      ],
      "metadata": {
        "colab": {
          "base_uri": "https://localhost:8080/"
        },
        "id": "ov3WBfEBvHh2",
        "outputId": "e48e2350-5a0d-44e5-a21e-5a32cf54bff9"
      },
      "execution_count": 1,
      "outputs": [
        {
          "output_type": "stream",
          "name": "stdout",
          "text": [
            "Mounted at /content/drive\n"
          ]
        }
      ]
    },
    {
      "cell_type": "markdown",
      "source": [
        "### Load the Dataset"
      ],
      "metadata": {
        "id": "vY_oerfG5pTd"
      }
    },
    {
      "cell_type": "code",
      "source": [
        "import os\n",
        "import shutil\n",
        "import numpy as np\n",
        "from sklearn.model_selection import train_test_split\n",
        "from tqdm import tqdm  # Progress bar to monitor the copying process\n",
        "\n",
        "# Define the base directory and the new directories for train, validation, and test sets\n",
        "base_dir = '/content/drive/My Drive/EN3150-Assignment-03-CNN/Images/'\n",
        "train_dir = '/content/drive/My Drive/EN3150-Assignment-03-CNN/Images/train'\n",
        "validation_dir = '/content/drive/My Drive/EN3150-Assignment-03-CNN/Images/validation'\n",
        "test_dir = '/content/drive/My Drive/EN3150-Assignment-03-CNN/Images/test'\n",
        "\n",
        "# Create directories if they don't exist\n",
        "os.makedirs(train_dir, exist_ok=True)\n",
        "os.makedirs(validation_dir, exist_ok=True)\n",
        "os.makedirs(test_dir, exist_ok=True)\n",
        "\n",
        "# Lists to hold image data and labels\n",
        "image_paths = []\n",
        "labels = []\n",
        "\n",
        "# Load images from each folder (H1, H2, H3, H5, H6)\n",
        "for folder in os.listdir(base_dir):\n",
        "    folder_path = os.path.join(base_dir, folder)\n",
        "    if os.path.isdir(folder_path):\n",
        "        for filename in os.listdir(folder_path):\n",
        "            if filename.endswith('.jpg'):\n",
        "                # Construct full image path\n",
        "                image_path = os.path.join(folder_path, filename)\n",
        "                image_paths.append(image_path)\n",
        "                labels.append(folder)  # Assign label based on folder name\n",
        "\n",
        "# Convert labels to a NumPy array\n",
        "labels = np.array(labels)"
      ],
      "metadata": {
        "id": "39OXoDUkXw4i"
      },
      "execution_count": 2,
      "outputs": []
    },
    {
      "cell_type": "markdown",
      "source": [
        "### Split the Dataset"
      ],
      "metadata": {
        "id": "RKVleIeiYJz6"
      }
    },
    {
      "cell_type": "code",
      "source": [
        "# Split data: 60% train, 20% validation, 20% test\n",
        "train_paths, temp_paths, train_labels, temp_labels = train_test_split(\n",
        "    image_paths, labels, test_size=0.4, random_state=42, stratify=labels\n",
        ")\n",
        "validation_paths, test_paths, validation_labels, test_labels = train_test_split(\n",
        "    temp_paths, temp_labels, test_size=0.5, random_state=42, stratify=temp_labels\n",
        ")\n",
        "\n",
        "# Print the sizes of the splits\n",
        "print(f'Training set: {len(train_paths)} images')\n",
        "print(f'Validation set: {len(validation_paths)} images')\n",
        "print(f'Test set: {len(test_paths)} images')\n",
        "\n",
        "# Function to copy images to the relevant directories (train, validation, test)\n",
        "def copy_images_to_directories(image_paths, labels, split_dir):\n",
        "    # Create subdirectories for each class in the split directory (train, validation, test)\n",
        "    for class_name in np.unique(labels):\n",
        "        os.makedirs(os.path.join(split_dir, class_name), exist_ok=True)\n",
        "\n",
        "    # Use tqdm to show progress while copying files\n",
        "    for image_path, label in tqdm(zip(image_paths, labels), total=len(image_paths)):\n",
        "        # Determine the class directory for the label\n",
        "        class_dir = os.path.join(split_dir, label)\n",
        "        # Copy the image to the appropriate class directory\n",
        "        shutil.copy(image_path, class_dir)\n",
        "\n",
        "# Copy images to the train, validation, and test directories\n",
        "print(\"Copying images to the train directory...\")\n",
        "copy_images_to_directories(train_paths, train_labels, train_dir)\n",
        "\n",
        "print(\"Copying images to the validation directory...\")\n",
        "copy_images_to_directories(validation_paths, validation_labels, validation_dir)\n",
        "\n",
        "print(\"Copying images to the test directory...\")\n",
        "copy_images_to_directories(test_paths, test_labels, test_dir)\n",
        "\n",
        "print(\"Images have been copied to train, validation, and test directories.\")\n"
      ],
      "metadata": {
        "id": "s6kBEVEAW_Uf",
        "outputId": "3dafc4e3-a211-45e0-84fd-6604aac13214",
        "colab": {
          "base_uri": "https://localhost:8080/"
        }
      },
      "execution_count": 3,
      "outputs": [
        {
          "output_type": "stream",
          "name": "stdout",
          "text": [
            "Training set: 5468 images\n",
            "Validation set: 1823 images\n",
            "Test set: 1823 images\n",
            "Copying images to the train directory...\n"
          ]
        },
        {
          "output_type": "stream",
          "name": "stderr",
          "text": [
            "100%|██████████| 5468/5468 [17:41<00:00,  5.15it/s]\n"
          ]
        },
        {
          "output_type": "stream",
          "name": "stdout",
          "text": [
            "Copying images to the validation directory...\n"
          ]
        },
        {
          "output_type": "stream",
          "name": "stderr",
          "text": [
            "100%|██████████| 1823/1823 [05:44<00:00,  5.29it/s]\n"
          ]
        },
        {
          "output_type": "stream",
          "name": "stdout",
          "text": [
            "Copying images to the test directory...\n"
          ]
        },
        {
          "output_type": "stream",
          "name": "stderr",
          "text": [
            "100%|██████████| 1823/1823 [05:45<00:00,  5.28it/s]"
          ]
        },
        {
          "output_type": "stream",
          "name": "stdout",
          "text": [
            "Images have been copied to train, validation, and test directories.\n"
          ]
        },
        {
          "output_type": "stream",
          "name": "stderr",
          "text": [
            "\n"
          ]
        }
      ]
    },
    {
      "cell_type": "markdown",
      "source": [
        "### Build the CNN Model with modifications"
      ],
      "metadata": {
        "id": "LH5GQXquEoyV"
      }
    },
    {
      "cell_type": "code",
      "source": [
        "from tensorflow.keras import layers, models\n",
        "from tensorflow.keras.optimizers import Adam\n",
        "\n",
        "# Define the CNN architecture\n",
        "def build_cnn(input_shape,x1, m1, x2, m2, x3, x4, m3, d, num_classes):\n",
        "    model = models.Sequential(name=\"Custom_CNN_Model\")\n",
        "\n",
        "    # Use Input layer to define the input shape\n",
        "    model.add(layers.Input(shape=input_shape, name='Input'))\n",
        "\n",
        "    # First Convolutional Layer\n",
        "    model.add(layers.Conv2D(x1, (m1, m1), activation='relu', name='Conv2D_1'))\n",
        "    model.add(layers.MaxPooling2D((2, 2), name='MaxPooling2D_1'))\n",
        "\n",
        "    # Second Convolutional Layer\n",
        "    model.add(layers.Conv2D(x2, (m2, m2), activation='relu', name='Conv2D_2'))\n",
        "    model.add(layers.MaxPooling2D((2, 2), name='MaxPooling2D_2'))\n",
        "\n",
        "    # Third Convolutional Layer\n",
        "    model.add(layers.Conv2D(x3, (m3, m3), activation='relu', name='Conv2D_3'))\n",
        "    model.add(layers.MaxPooling2D((2, 2), name='MaxPooling2D_3'))\n",
        "\n",
        "    # Fourth Convolutional layer\n",
        "    model.add(layers.Conv2D(x3, (m3, m3), activation='relu', name='Conv2D_4'))\n",
        "    model.add(layers.MaxPooling2D((2, 2), name='MaxPooling2D_4'))\n",
        "\n",
        "    # Flatten the output\n",
        "    model.add(layers.Flatten(name='Flatten'))\n",
        "\n",
        "    # Fully Connected Layer\n",
        "    model.add(layers.Dense(x3, activation='relu', name='Dense_1'))\n",
        "    model.add(layers.Dropout(d, name='Dropout_1'))  # Dropout layer to reduce overfitting\n",
        "\n",
        "    # Output Layer\n",
        "    model.add(layers.Dense(num_classes, activation='softmax', name='Output'))\n",
        "\n",
        "    return model\n",
        "\n",
        "# Build and compile the CNN model\n",
        "input_shape = (224,224, 3)\n",
        "cnn_model = build_cnn(input_shape,x1=32, m1=3, x2=64, m2=3, x3=128, x4=64, m3=3, d=0.5, num_classes=5)\n",
        "\n",
        "# Custom learning rate\n",
        "custom_lr_optimizer = Adam(learning_rate=0.0001)\n",
        "\n",
        "# Using the optimizer in the model\n",
        "cnn_model.compile(optimizer=custom_lr_optimizer, loss='sparse_categorical_crossentropy', metrics=['accuracy'])\n",
        "\n",
        "# Display the model summary\n",
        "cnn_model.summary()"
      ],
      "metadata": {
        "id": "3zUPDyzSDPTd",
        "outputId": "a0a9a2b7-d93a-42ef-c863-4b0af4c4924d",
        "colab": {
          "base_uri": "https://localhost:8080/"
        }
      },
      "execution_count": 6,
      "outputs": [
        {
          "output_type": "stream",
          "name": "stdout",
          "text": [
            "Model: \"Custom_CNN_Model\"\n",
            "_________________________________________________________________\n",
            " Layer (type)                Output Shape              Param #   \n",
            "=================================================================\n",
            " Conv2D_1 (Conv2D)           (None, 222, 222, 32)      896       \n",
            "                                                                 \n",
            " MaxPooling2D_1 (MaxPooling  (None, 111, 111, 32)      0         \n",
            " 2D)                                                             \n",
            "                                                                 \n",
            " Conv2D_2 (Conv2D)           (None, 109, 109, 64)      18496     \n",
            "                                                                 \n",
            " MaxPooling2D_2 (MaxPooling  (None, 54, 54, 64)        0         \n",
            " 2D)                                                             \n",
            "                                                                 \n",
            " Conv2D_3 (Conv2D)           (None, 52, 52, 128)       73856     \n",
            "                                                                 \n",
            " MaxPooling2D_3 (MaxPooling  (None, 26, 26, 128)       0         \n",
            " 2D)                                                             \n",
            "                                                                 \n",
            " Conv2D_4 (Conv2D)           (None, 24, 24, 128)       147584    \n",
            "                                                                 \n",
            " MaxPooling2D_4 (MaxPooling  (None, 12, 12, 128)       0         \n",
            " 2D)                                                             \n",
            "                                                                 \n",
            " Flatten (Flatten)           (None, 18432)             0         \n",
            "                                                                 \n",
            " Dense_1 (Dense)             (None, 128)               2359424   \n",
            "                                                                 \n",
            " Dropout_1 (Dropout)         (None, 128)               0         \n",
            "                                                                 \n",
            " Output (Dense)              (None, 5)                 645       \n",
            "                                                                 \n",
            "=================================================================\n",
            "Total params: 2600901 (9.92 MB)\n",
            "Trainable params: 2600901 (9.92 MB)\n",
            "Non-trainable params: 0 (0.00 Byte)\n",
            "_________________________________________________________________\n"
          ]
        }
      ]
    },
    {
      "cell_type": "markdown",
      "source": [
        "### Train the Model"
      ],
      "metadata": {
        "id": "rGM6NhsoG2RU"
      }
    },
    {
      "cell_type": "code",
      "source": [
        "from tensorflow.keras.preprocessing.image import ImageDataGenerator\n",
        "\n",
        "# Define image size and batch size\n",
        "img_size = (224, 224)  # Resize images to 224x224\n",
        "batch_size = 32\n",
        "\n",
        "# Create ImageDataGenerators for training and validation sets\n",
        "train_datagen = ImageDataGenerator(rescale=1.0 / 255)  # Normalize images to [0, 1]\n",
        "validation_datagen = ImageDataGenerator(rescale=1.0 / 255)\n",
        "\n",
        "# Load data from directories\n",
        "train_generator = train_datagen.flow_from_directory(\n",
        "    train_dir,\n",
        "    target_size=img_size,\n",
        "    batch_size=batch_size,\n",
        "    class_mode='categorical',  # Labels are one-hot encoded\n",
        "    shuffle=True\n",
        ")\n",
        "\n",
        "validation_generator = validation_datagen.flow_from_directory(\n",
        "    validation_dir,\n",
        "    target_size=img_size,\n",
        "    batch_size=batch_size,\n",
        "    class_mode='categorical',  # Labels are one-hot encoded\n",
        "    shuffle=False\n",
        ")\n",
        "\n",
        "# Custom data generator to convert categorical labels to sparse labels\n",
        "import numpy as np\n",
        "\n",
        "def sparse_generator(data_generator):\n",
        "    \"\"\"Convert one-hot labels to sparse labels for compatibility with sparse_categorical_crossentropy.\"\"\"\n",
        "    for images, labels in data_generator:\n",
        "        yield images, np.argmax(labels, axis=1)  # Convert one-hot to sparse\n",
        "\n",
        "train_generator_sparse = sparse_generator(train_generator)\n",
        "validation_generator_sparse = sparse_generator(validation_generator)\n",
        "\n",
        "# Compile the model\n",
        "from tensorflow.keras.optimizers import Adam\n",
        "\n",
        "learning_rate = 0.001\n",
        "cnn_model.compile(\n",
        "    optimizer=Adam(learning_rate=learning_rate),\n",
        "    loss='sparse_categorical_crossentropy',  # Matches sparse labels\n",
        "    metrics=['accuracy']\n",
        ")\n",
        "\n",
        "# Train the model\n",
        "steps_per_epoch = train_generator.samples // batch_size\n",
        "validation_steps = validation_generator.samples // batch_size\n",
        "\n",
        "history = cnn_model.fit(\n",
        "    train_generator_sparse,\n",
        "    steps_per_epoch=steps_per_epoch,\n",
        "    epochs=20,\n",
        "    validation_data=validation_generator_sparse,\n",
        "    validation_steps=validation_steps,\n",
        "    verbose=1\n",
        ")\n",
        "\n",
        "# Plot training and validation loss\n",
        "import matplotlib.pyplot as plt\n",
        "\n",
        "plt.plot(history.history['loss'], label='Training Loss')\n",
        "plt.plot(history.history['val_loss'], label='Validation Loss')\n",
        "plt.title('Training and Validation Loss')\n",
        "plt.xlabel('Epoch')\n",
        "plt.ylabel('Loss')\n",
        "plt.legend()\n",
        "plt.show()\n"
      ],
      "metadata": {
        "id": "GvUK2nWyZCoi",
        "outputId": "7dcca1c1-f58e-4d7e-f70f-cb7aa30fe62d",
        "colab": {
          "base_uri": "https://localhost:8080/",
          "height": 1000
        }
      },
      "execution_count": 9,
      "outputs": [
        {
          "output_type": "stream",
          "name": "stdout",
          "text": [
            "Found 5468 images belonging to 5 classes.\n",
            "Found 1823 images belonging to 5 classes.\n",
            "Epoch 1/20\n",
            "170/170 [==============================] - 450s 3s/step - loss: 1.2502 - accuracy: 0.5162 - val_loss: 1.0411 - val_accuracy: 0.5675\n",
            "Epoch 2/20\n",
            "170/170 [==============================] - 445s 3s/step - loss: 1.1518 - accuracy: 0.5515 - val_loss: 0.9787 - val_accuracy: 0.5882\n",
            "Epoch 3/20\n",
            "170/170 [==============================] - 442s 3s/step - loss: 1.0607 - accuracy: 0.5872 - val_loss: 1.0348 - val_accuracy: 0.5698\n",
            "Epoch 4/20\n",
            "170/170 [==============================] - 442s 3s/step - loss: 1.0559 - accuracy: 0.5830 - val_loss: 0.9539 - val_accuracy: 0.6133\n",
            "Epoch 5/20\n",
            "170/170 [==============================] - 442s 3s/step - loss: 0.9967 - accuracy: 0.5981 - val_loss: 0.9572 - val_accuracy: 0.6027\n",
            "Epoch 6/20\n",
            "170/170 [==============================] - 443s 3s/step - loss: 0.9639 - accuracy: 0.6161 - val_loss: 0.9435 - val_accuracy: 0.6083\n",
            "Epoch 7/20\n",
            "170/170 [==============================] - 443s 3s/step - loss: 0.9516 - accuracy: 0.6150 - val_loss: 0.9158 - val_accuracy: 0.6189\n",
            "Epoch 8/20\n",
            "170/170 [==============================] - 441s 3s/step - loss: 0.9320 - accuracy: 0.6251 - val_loss: 0.8904 - val_accuracy: 0.6417\n",
            "Epoch 9/20\n",
            "170/170 [==============================] - 443s 3s/step - loss: 0.9265 - accuracy: 0.6253 - val_loss: 0.8659 - val_accuracy: 0.6512\n",
            "Epoch 10/20\n",
            "170/170 [==============================] - 442s 3s/step - loss: 0.8691 - accuracy: 0.6597 - val_loss: 0.8814 - val_accuracy: 0.6233\n",
            "Epoch 11/20\n",
            "170/170 [==============================] - 442s 3s/step - loss: 0.8564 - accuracy: 0.6586 - val_loss: 0.9044 - val_accuracy: 0.6328\n",
            "Epoch 12/20\n",
            "170/170 [==============================] - 444s 3s/step - loss: 0.8576 - accuracy: 0.6634 - val_loss: 0.9540 - val_accuracy: 0.6105\n",
            "Epoch 13/20\n",
            "170/170 [==============================] - 443s 3s/step - loss: 0.8356 - accuracy: 0.6628 - val_loss: 0.9587 - val_accuracy: 0.6205\n",
            "Epoch 14/20\n",
            "170/170 [==============================] - 443s 3s/step - loss: 0.8372 - accuracy: 0.6667 - val_loss: 0.9275 - val_accuracy: 0.6345\n",
            "Epoch 15/20\n",
            "170/170 [==============================] - 443s 3s/step - loss: 0.8020 - accuracy: 0.6832 - val_loss: 0.8990 - val_accuracy: 0.6395\n",
            "Epoch 16/20\n",
            "170/170 [==============================] - 442s 3s/step - loss: 0.7362 - accuracy: 0.7051 - val_loss: 0.9805 - val_accuracy: 0.6161\n",
            "Epoch 17/20\n",
            "170/170 [==============================] - 442s 3s/step - loss: 0.7200 - accuracy: 0.7101 - val_loss: 0.9456 - val_accuracy: 0.6278\n",
            "Epoch 18/20\n",
            "170/170 [==============================] - 441s 3s/step - loss: 0.7033 - accuracy: 0.7215 - val_loss: 0.9774 - val_accuracy: 0.6311\n",
            "Epoch 19/20\n",
            "170/170 [==============================] - 441s 3s/step - loss: 0.6605 - accuracy: 0.7358 - val_loss: 1.0372 - val_accuracy: 0.6367\n",
            "Epoch 20/20\n",
            "170/170 [==============================] - 440s 3s/step - loss: 0.6192 - accuracy: 0.7507 - val_loss: 1.0571 - val_accuracy: 0.6328\n"
          ]
        },
        {
          "output_type": "display_data",
          "data": {
            "text/plain": [
              "<Figure size 640x480 with 1 Axes>"
            ],
            "image/png": "[encoded data removed]"
          },
          "metadata": {}
        }
      ]
    },
    {
      "cell_type": "code",
      "source": [
        "import matplotlib.pyplot as plt\n",
        "\n",
        "# Extract loss values from the history object\n",
        "train_loss = history.history['loss']\n",
        "val_loss = history.history['val_loss']\n",
        "\n",
        "# Extract the number of epochs\n",
        "epochs = range(1, len(train_loss) + 1)\n",
        "\n",
        "# Plot the training and validation loss\n",
        "plt.figure(figsize=(10, 6))\n",
        "plt.plot(epochs, train_loss, label='Training Loss')\n",
        "plt.plot(epochs, val_loss, label='Validation Loss')\n",
        "plt.title('Training and Validation Loss')\n",
        "plt.xlabel('Epochs')\n",
        "plt.ylabel('Loss')\n",
        "plt.legend()\n",
        "plt.grid(True)\n",
        "plt.show()\n"
      ],
      "metadata": {
        "id": "jWG9scEjWeD9",
        "outputId": "93153a5b-1011-4a95-b892-fae6e0d68960",
        "colab": {
          "base_uri": "https://localhost:8080/",
          "height": 564
        }
      },
      "execution_count": 10,
      "outputs": [
        {
          "output_type": "display_data",
          "data": {
            "text/plain": [
              "<Figure size 1000x600 with 1 Axes>"
            ],
            "image/png": "[encoded data removed]"
          },
          "metadata": {}
        }
      ]
    },
    {
      "cell_type": "code",
      "source": [
        "# Path to save the model\n",
        "save_path = '/content/drive/My Drive/models/cnn_model_1.h5'\n",
        "\n",
        "# Save the model\n",
        "cnn_model.save(save_path)\n",
        "\n",
        "# Confirm the model has been saved\n",
        "print(\"Model saved successfully!\")\n"
      ],
      "metadata": {
        "id": "Ymhw6atbYYTS",
        "outputId": "6bd8c58d-ab9d-4192-f98a-c3ff983a11c5",
        "colab": {
          "base_uri": "https://localhost:8080/"
        }
      },
      "execution_count": 11,
      "outputs": [
        {
          "output_type": "stream",
          "name": "stdout",
          "text": [
            "Model saved successfully!\n"
          ]
        },
        {
          "output_type": "stream",
          "name": "stderr",
          "text": [
            "/usr/local/lib/python3.10/dist-packages/keras/src/engine/training.py:3103: UserWarning: You are saving your model as an HDF5 file via `model.save()`. This file format is considered legacy. We recommend using instead the native Keras format, e.g. `model.save('my_model.keras')`.\n",
            "  saving_api.save_model(\n"
          ]
        }
      ]
    },
    {
      "cell_type": "code",
      "source": [
        "from tensorflow.keras.models import load_model\n",
        "\n",
        "# Path to the saved model\n",
        "save_path = '/content/drive/My Drive/models/cnn_model_1.h5'\n",
        "\n",
        "# Load the model\n",
        "cnn_model = load_model(save_path)\n",
        "\n",
        "# Confirm the model has been loaded\n",
        "print(\"Model loaded successfully!\")\n"
      ],
      "metadata": {
        "id": "ubtwXZWkrXRa",
        "outputId": "975690c9-9e15-4189-ca08-c8e63d5a4ef3",
        "colab": {
          "base_uri": "https://localhost:8080/"
        }
      },
      "execution_count": 12,
      "outputs": [
        {
          "output_type": "stream",
          "name": "stdout",
          "text": [
            "Model loaded successfully!\n"
          ]
        }
      ]
    },
    {
      "cell_type": "markdown",
      "source": [
        "### Evaluate the model"
      ],
      "metadata": {
        "id": "CAsgZFTymoc6"
      }
    },
    {
      "cell_type": "code",
      "source": [
        "from tensorflow.keras.preprocessing.image import ImageDataGenerator\n",
        "\n",
        "# Create the test data generator\n",
        "test_datagen = ImageDataGenerator(rescale=1./255)\n",
        "\n",
        "# Parameters\n",
        "\n",
        "img_size = (224, 224)  # Replace with your model's expected input size\n",
        "batch_size = 32  # Adjust batch size if needed\n",
        "\n",
        "# Load the test data\n",
        "test_generator = test_datagen.flow_from_directory(\n",
        "    test_dir,\n",
        "    target_size=img_size,\n",
        "    batch_size=batch_size,\n",
        "    class_mode='categorical',\n",
        "    shuffle=False  # No shuffling to preserve order\n",
        ")\n"
      ],
      "metadata": {
        "id": "7nOk_rs8sYi0",
        "outputId": "4a5d7a99-8996-42ff-ea24-2b782ccd16a2",
        "colab": {
          "base_uri": "https://localhost:8080/"
        }
      },
      "execution_count": 13,
      "outputs": [
        {
          "output_type": "stream",
          "name": "stdout",
          "text": [
            "Found 1823 images belonging to 5 classes.\n"
          ]
        }
      ]
    },
    {
      "cell_type": "code",
      "source": [
        "# Evaluate the model on the test dataset\n",
        "test_loss, test_accuracy = cnn_model.evaluate(test_generator, verbose=1)\n",
        "print(f\"Test Accuracy: {test_accuracy:.2f}\")"
      ],
      "metadata": {
        "id": "QftjRy1nmv8F",
        "outputId": "5a278797-e647-4812-c8c2-3a9a3824d8ac",
        "colab": {
          "base_uri": "https://localhost:8080/",
          "height": 1000
        }
      },
      "execution_count": 15,
      "outputs": [
        {
          "output_type": "error",
          "ename": "InvalidArgumentError",
          "evalue": "Graph execution error:\n\nDetected at node Squeeze defined at (most recent call last):\n  File \"/usr/lib/python3.10/runpy.py\", line 196, in _run_module_as_main\n\n  File \"/usr/lib/python3.10/runpy.py\", line 86, in _run_code\n\n  File \"/usr/local/lib/python3.10/dist-packages/colab_kernel_launcher.py\", line 37, in <module>\n\n  File \"/usr/local/lib/python3.10/dist-packages/traitlets/config/application.py\", line 992, in launch_instance\n\n  File \"/usr/local/lib/python3.10/dist-packages/ipykernel/kernelapp.py\", line 619, in start\n\n  File \"/usr/local/lib/python3.10/dist-packages/tornado/platform/asyncio.py\", line 195, in start\n\n  File \"/usr/lib/python3.10/asyncio/base_events.py\", line 603, in run_forever\n\n  File \"/usr/lib/python3.10/asyncio/base_events.py\", line 1909, in _run_once\n\n  File \"/usr/lib/python3.10/asyncio/events.py\", line 80, in _run\n\n  File \"/usr/local/lib/python3.10/dist-packages/tornado/ioloop.py\", line 685, in <lambda>\n\n  File \"/usr/local/lib/python3.10/dist-packages/tornado/ioloop.py\", line 738, in _run_callback\n\n  File \"/usr/local/lib/python3.10/dist-packages/tornado/gen.py\", line 825, in inner\n\n  File \"/usr/local/lib/python3.10/dist-packages/tornado/gen.py\", line 786, in run\n\n  File \"/usr/local/lib/python3.10/dist-packages/ipykernel/kernelbase.py\", line 361, in process_one\n\n  File \"/usr/local/lib/python3.10/dist-packages/tornado/gen.py\", line 234, in wrapper\n\n  File \"/usr/local/lib/python3.10/dist-packages/ipykernel/kernelbase.py\", line 261, in dispatch_shell\n\n  File \"/usr/local/lib/python3.10/dist-packages/tornado/gen.py\", line 234, in wrapper\n\n  File \"/usr/local/lib/python3.10/dist-packages/ipykernel/kernelbase.py\", line 539, in execute_request\n\n  File \"/usr/local/lib/python3.10/dist-packages/tornado/gen.py\", line 234, in wrapper\n\n  File \"/usr/local/lib/python3.10/dist-packages/ipykernel/ipkernel.py\", line 302, in do_execute\n\n  File \"/usr/local/lib/python3.10/dist-packages/ipykernel/zmqshell.py\", line 539, in run_cell\n\n  File \"/usr/local/lib/python3.10/dist-packages/IPython/core/interactiveshell.py\", line 2975, in run_cell\n\n  File \"/usr/local/lib/python3.10/dist-packages/IPython/core/interactiveshell.py\", line 3030, in _run_cell\n\n  File \"/usr/local/lib/python3.10/dist-packages/IPython/core/async_helpers.py\", line 78, in _pseudo_sync_runner\n\n  File \"/usr/local/lib/python3.10/dist-packages/IPython/core/interactiveshell.py\", line 3257, in run_cell_async\n\n  File \"/usr/local/lib/python3.10/dist-packages/IPython/core/interactiveshell.py\", line 3473, in run_ast_nodes\n\n  File \"/usr/local/lib/python3.10/dist-packages/IPython/core/interactiveshell.py\", line 3553, in run_code\n\n  File \"<ipython-input-14-643e1185ece0>\", line 2, in <cell line: 2>\n\n  File \"/usr/local/lib/python3.10/dist-packages/keras/src/utils/traceback_utils.py\", line 65, in error_handler\n\n  File \"/usr/local/lib/python3.10/dist-packages/keras/src/engine/training.py\", line 2296, in evaluate\n\n  File \"/usr/local/lib/python3.10/dist-packages/keras/src/engine/training.py\", line 4108, in run_step\n\n  File \"/usr/local/lib/python3.10/dist-packages/keras/src/engine/training.py\", line 2066, in test_function\n\n  File \"/usr/local/lib/python3.10/dist-packages/keras/src/engine/training.py\", line 2049, in step_function\n\n  File \"/usr/local/lib/python3.10/dist-packages/keras/src/engine/training.py\", line 2037, in run_step\n\n  File \"/usr/local/lib/python3.10/dist-packages/keras/src/engine/training.py\", line 1920, in test_step\n\n  File \"/usr/local/lib/python3.10/dist-packages/keras/src/engine/training.py\", line 1249, in compute_metrics\n\n  File \"/usr/local/lib/python3.10/dist-packages/keras/src/engine/compile_utils.py\", line 620, in update_state\n\n  File \"/usr/local/lib/python3.10/dist-packages/keras/src/utils/metrics_utils.py\", line 77, in decorated\n\n  File \"/usr/local/lib/python3.10/dist-packages/keras/src/metrics/base_metric.py\", line 140, in update_state_fn\n\n  File \"/usr/local/lib/python3.10/dist-packages/keras/src/metrics/base_metric.py\", line 723, in update_state\n\n  File \"/usr/local/lib/python3.10/dist-packages/keras/src/metrics/accuracy_metrics.py\", line 459, in sparse_categorical_accuracy\n\n  File \"/usr/local/lib/python3.10/dist-packages/keras/src/utils/metrics_utils.py\", line 961, in sparse_categorical_matches\n\nCan not squeeze dim[1], expected a dimension of 1, got 5\n\t [[{{node Squeeze}}]] [Op:__inference_test_function_25949]",
          "traceback": [
            "\u001b[0;31m---------------------------------------------------------------------------\u001b[0m",
            "\u001b[0;31mInvalidArgumentError\u001b[0m                      Traceback (most recent call last)",
            "\u001b[0;32m<ipython-input-15-643e1185ece0>\u001b[0m in \u001b[0;36m<cell line: 2>\u001b[0;34m()\u001b[0m\n\u001b[1;32m      1\u001b[0m \u001b[0;31m# Evaluate the model on the test dataset\u001b[0m\u001b[0;34m\u001b[0m\u001b[0;34m\u001b[0m\u001b[0m\n\u001b[0;32m----> 2\u001b[0;31m \u001b[0mtest_loss\u001b[0m\u001b[0;34m,\u001b[0m \u001b[0mtest_accuracy\u001b[0m \u001b[0;34m=\u001b[0m \u001b[0mcnn_model\u001b[0m\u001b[0;34m.\u001b[0m\u001b[0mevaluate\u001b[0m\u001b[0;34m(\u001b[0m\u001b[0mtest_generator\u001b[0m\u001b[0;34m,\u001b[0m \u001b[0mverbose\u001b[0m\u001b[0;34m=\u001b[0m\u001b[0;36m1\u001b[0m\u001b[0;34m)\u001b[0m\u001b[0;34m\u001b[0m\u001b[0;34m\u001b[0m\u001b[0m\n\u001b[0m\u001b[1;32m      3\u001b[0m \u001b[0mprint\u001b[0m\u001b[0;34m(\u001b[0m\u001b[0;34mf\"Test Accuracy: {test_accuracy:.2f}\"\u001b[0m\u001b[0;34m)\u001b[0m\u001b[0;34m\u001b[0m\u001b[0;34m\u001b[0m\u001b[0m\n",
            "\u001b[0;32m/usr/local/lib/python3.10/dist-packages/keras/src/utils/traceback_utils.py\u001b[0m in \u001b[0;36merror_handler\u001b[0;34m(*args, **kwargs)\u001b[0m\n\u001b[1;32m     68\u001b[0m             \u001b[0;31m# To get the full stack trace, call:\u001b[0m\u001b[0;34m\u001b[0m\u001b[0;34m\u001b[0m\u001b[0m\n\u001b[1;32m     69\u001b[0m             \u001b[0;31m# `tf.debugging.disable_traceback_filtering()`\u001b[0m\u001b[0;34m\u001b[0m\u001b[0;34m\u001b[0m\u001b[0m\n\u001b[0;32m---> 70\u001b[0;31m             \u001b[0;32mraise\u001b[0m \u001b[0me\u001b[0m\u001b[0;34m.\u001b[0m\u001b[0mwith_traceback\u001b[0m\u001b[0;34m(\u001b[0m\u001b[0mfiltered_tb\u001b[0m\u001b[0;34m)\u001b[0m \u001b[0;32mfrom\u001b[0m \u001b[0;32mNone\u001b[0m\u001b[0;34m\u001b[0m\u001b[0;34m\u001b[0m\u001b[0m\n\u001b[0m\u001b[1;32m     71\u001b[0m         \u001b[0;32mfinally\u001b[0m\u001b[0;34m:\u001b[0m\u001b[0;34m\u001b[0m\u001b[0;34m\u001b[0m\u001b[0m\n\u001b[1;32m     72\u001b[0m             \u001b[0;32mdel\u001b[0m \u001b[0mfiltered_tb\u001b[0m\u001b[0;34m\u001b[0m\u001b[0;34m\u001b[0m\u001b[0m\n",
            "\u001b[0;32m/usr/local/lib/python3.10/dist-packages/tensorflow/python/eager/execute.py\u001b[0m in \u001b[0;36mquick_execute\u001b[0;34m(op_name, num_outputs, inputs, attrs, ctx, name)\u001b[0m\n\u001b[1;32m     51\u001b[0m   \u001b[0;32mtry\u001b[0m\u001b[0;34m:\u001b[0m\u001b[0;34m\u001b[0m\u001b[0;34m\u001b[0m\u001b[0m\n\u001b[1;32m     52\u001b[0m     \u001b[0mctx\u001b[0m\u001b[0;34m.\u001b[0m\u001b[0mensure_initialized\u001b[0m\u001b[0;34m(\u001b[0m\u001b[0;34m)\u001b[0m\u001b[0;34m\u001b[0m\u001b[0;34m\u001b[0m\u001b[0m\n\u001b[0;32m---> 53\u001b[0;31m     tensors = pywrap_tfe.TFE_Py_Execute(ctx._handle, device_name, op_name,\n\u001b[0m\u001b[1;32m     54\u001b[0m                                         inputs, attrs, num_outputs)\n\u001b[1;32m     55\u001b[0m   \u001b[0;32mexcept\u001b[0m \u001b[0mcore\u001b[0m\u001b[0;34m.\u001b[0m\u001b[0m_NotOkStatusException\u001b[0m \u001b[0;32mas\u001b[0m \u001b[0me\u001b[0m\u001b[0;34m:\u001b[0m\u001b[0;34m\u001b[0m\u001b[0;34m\u001b[0m\u001b[0m\n",
            "\u001b[0;31mInvalidArgumentError\u001b[0m: Graph execution error:\n\nDetected at node Squeeze defined at (most recent call last):\n  File \"/usr/lib/python3.10/runpy.py\", line 196, in _run_module_as_main\n\n  File \"/usr/lib/python3.10/runpy.py\", line 86, in _run_code\n\n  File \"/usr/local/lib/python3.10/dist-packages/colab_kernel_launcher.py\", line 37, in <module>\n\n  File \"/usr/local/lib/python3.10/dist-packages/traitlets/config/application.py\", line 992, in launch_instance\n\n  File \"/usr/local/lib/python3.10/dist-packages/ipykernel/kernelapp.py\", line 619, in start\n\n  File \"/usr/local/lib/python3.10/dist-packages/tornado/platform/asyncio.py\", line 195, in start\n\n  File \"/usr/lib/python3.10/asyncio/base_events.py\", line 603, in run_forever\n\n  File \"/usr/lib/python3.10/asyncio/base_events.py\", line 1909, in _run_once\n\n  File \"/usr/lib/python3.10/asyncio/events.py\", line 80, in _run\n\n  File \"/usr/local/lib/python3.10/dist-packages/tornado/ioloop.py\", line 685, in <lambda>\n\n  File \"/usr/local/lib/python3.10/dist-packages/tornado/ioloop.py\", line 738, in _run_callback\n\n  File \"/usr/local/lib/python3.10/dist-packages/tornado/gen.py\", line 825, in inner\n\n  File \"/usr/local/lib/python3.10/dist-packages/tornado/gen.py\", line 786, in run\n\n  File \"/usr/local/lib/python3.10/dist-packages/ipykernel/kernelbase.py\", line 361, in process_one\n\n  File \"/usr/local/lib/python3.10/dist-packages/tornado/gen.py\", line 234, in wrapper\n\n  File \"/usr/local/lib/python3.10/dist-packages/ipykernel/kernelbase.py\", line 261, in dispatch_shell\n\n  File \"/usr/local/lib/python3.10/dist-packages/tornado/gen.py\", line 234, in wrapper\n\n  File \"/usr/local/lib/python3.10/dist-packages/ipykernel/kernelbase.py\", line 539, in execute_request\n\n  File \"/usr/local/lib/python3.10/dist-packages/tornado/gen.py\", line 234, in wrapper\n\n  File \"/usr/local/lib/python3.10/dist-packages/ipykernel/ipkernel.py\", line 302, in do_execute\n\n  File \"/usr/local/lib/python3.10/dist-packages/ipykernel/zmqshell.py\", line 539, in run_cell\n\n  File \"/usr/local/lib/python3.10/dist-packages/IPython/core/interactiveshell.py\", line 2975, in run_cell\n\n  File \"/usr/local/lib/python3.10/dist-packages/IPython/core/interactiveshell.py\", line 3030, in _run_cell\n\n  File \"/usr/local/lib/python3.10/dist-packages/IPython/core/async_helpers.py\", line 78, in _pseudo_sync_runner\n\n  File \"/usr/local/lib/python3.10/dist-packages/IPython/core/interactiveshell.py\", line 3257, in run_cell_async\n\n  File \"/usr/local/lib/python3.10/dist-packages/IPython/core/interactiveshell.py\", line 3473, in run_ast_nodes\n\n  File \"/usr/local/lib/python3.10/dist-packages/IPython/core/interactiveshell.py\", line 3553, in run_code\n\n  File \"<ipython-input-14-643e1185ece0>\", line 2, in <cell line: 2>\n\n  File \"/usr/local/lib/python3.10/dist-packages/keras/src/utils/traceback_utils.py\", line 65, in error_handler\n\n  File \"/usr/local/lib/python3.10/dist-packages/keras/src/engine/training.py\", line 2296, in evaluate\n\n  File \"/usr/local/lib/python3.10/dist-packages/keras/src/engine/training.py\", line 4108, in run_step\n\n  File \"/usr/local/lib/python3.10/dist-packages/keras/src/engine/training.py\", line 2066, in test_function\n\n  File \"/usr/local/lib/python3.10/dist-packages/keras/src/engine/training.py\", line 2049, in step_function\n\n  File \"/usr/local/lib/python3.10/dist-packages/keras/src/engine/training.py\", line 2037, in run_step\n\n  File \"/usr/local/lib/python3.10/dist-packages/keras/src/engine/training.py\", line 1920, in test_step\n\n  File \"/usr/local/lib/python3.10/dist-packages/keras/src/engine/training.py\", line 1249, in compute_metrics\n\n  File \"/usr/local/lib/python3.10/dist-packages/keras/src/engine/compile_utils.py\", line 620, in update_state\n\n  File \"/usr/local/lib/python3.10/dist-packages/keras/src/utils/metrics_utils.py\", line 77, in decorated\n\n  File \"/usr/local/lib/python3.10/dist-packages/keras/src/metrics/base_metric.py\", line 140, in update_state_fn\n\n  File \"/usr/local/lib/python3.10/dist-packages/keras/src/metrics/base_metric.py\", line 723, in update_state\n\n  File \"/usr/local/lib/python3.10/dist-packages/keras/src/metrics/accuracy_metrics.py\", line 459, in sparse_categorical_accuracy\n\n  File \"/usr/local/lib/python3.10/dist-packages/keras/src/utils/metrics_utils.py\", line 961, in sparse_categorical_matches\n\nCan not squeeze dim[1], expected a dimension of 1, got 5\n\t [[{{node Squeeze}}]] [Op:__inference_test_function_25949]"
          ]
        }
      ]
    },
    {
      "cell_type": "code",
      "source": [
        "import numpy as np\n",
        "from sklearn.metrics import confusion_matrix, classification_report\n",
        "import seaborn as sns\n",
        "import matplotlib.pyplot as plt\n",
        "\n",
        "# Get true labels and predictions\n",
        "true_labels = test_generator.classes\n",
        "predictions = cnn_model.predict(test_generator, verbose=1)\n",
        "predicted_labels = np.argmax(predictions, axis=1)\n",
        "\n",
        "# Get class labels\n",
        "class_labels = list(test_generator.class_indices.keys())\n",
        "\n",
        "# Confusion matrix\n",
        "conf_matrix = confusion_matrix(true_labels, predicted_labels)\n",
        "print(\"Confusion Matrix:\")\n",
        "print(conf_matrix)\n",
        "\n",
        "plt.figure(figsize=(10, 8))\n",
        "sns.heatmap(conf_matrix, annot=True, fmt=\"d\", cmap=\"Blues\", xticklabels=class_labels, yticklabels=class_labels)\n",
        "plt.xlabel('Predicted Labels')\n",
        "plt.ylabel('True Labels')\n",
        "plt.title('Confusion Matrix')\n",
        "plt.show()\n"
      ],
      "metadata": {
        "id": "wRiqaP-LnBks"
      },
      "execution_count": null,
      "outputs": []
    },
    {
      "cell_type": "code",
      "source": [
        "# Classification report\n",
        "report = classification_report(true_labels, predicted_labels, target_names=class_labels)\n",
        "print(\"Classification Report:\")\n",
        "print(report)\n"
      ],
      "metadata": {
        "id": "TPVNGTrjnZdE"
      },
      "execution_count": null,
      "outputs": []
    },
    {
      "cell_type": "markdown",
      "source": [
        "### Plot training and validation loss"
      ],
      "metadata": {
        "id": "seuQ6nZ8nnqi"
      }
    },
    {
      "cell_type": "code",
      "source": [
        "from tensorflow.keras.optimizers import Adam\n",
        "import matplotlib.pyplot as plt\n",
        "from tensorflow.keras.preprocessing.image import ImageDataGenerator\n",
        "\n",
        "# Learning rates to experiment with\n",
        "learning_rates = [0.0001, 0.01, 0.1]\n",
        "\n",
        "# Dictionary to store training histories for each learning rate\n",
        "histories = {}\n",
        "\n",
        "for lr in learning_rates:\n",
        "    print(f\"Training with learning rate: {lr}\")\n",
        "\n",
        "    # Build and compile the model with the given learning rate\n",
        "    cnn_model = build_cnn(input_shape=(224, 224, 3), x1=32, m1=3, x2=64, m2=3, x3=128, x4=64, m3=3, d=0.5, num_classes=5)\n",
        "    cnn_model.compile(optimizer=Adam(learning_rate=lr), loss='sparse_categorical_crossentropy', metrics=['accuracy'])\n",
        "\n",
        "    # Define image size and batch size\n",
        "    img_size = (224, 224)  # Resize images to 150x150\n",
        "    batch_size = 32\n",
        "\n",
        "    # Create ImageDataGenerators for training, validation, and test sets\n",
        "    train_datagen = ImageDataGenerator(rescale=1./255)  # Normalize images to [0, 1]\n",
        "    validation_datagen = ImageDataGenerator(rescale=1./255)\n",
        "\n",
        "    # Load data from directories\n",
        "    train_generator = train_datagen.flow_from_directory(\n",
        "        train_dir,\n",
        "        target_size=img_size,\n",
        "        batch_size=batch_size,\n",
        "        class_mode='categorical',  # Use categorical since labels are one-hot encoded\n",
        "        shuffle=True\n",
        "    )\n",
        "\n",
        "    validation_generator = validation_datagen.flow_from_directory(\n",
        "        validation_dir,\n",
        "        target_size=img_size,\n",
        "        batch_size=batch_size,\n",
        "        class_mode='categorical',\n",
        "        shuffle=False  # No shuffling for validation data\n",
        "    )\n",
        "\n",
        "    # Train the model and store history\n",
        "    history = cnn_model.fit(\n",
        "        train_generator,\n",
        "        epochs=10,\n",
        "        validation_data=validation_generator,\n",
        "        verbose=1\n",
        "    )\n",
        "\n",
        "    histories[lr] = history\n",
        "\n",
        "\n",
        "# Plot training and validation loss\n",
        "plt.figure(figsize=(12, 8))\n",
        "\n",
        "for lr, history in histories.items():\n",
        "    plt.plot(history.history['loss'], label=f'Train Loss (lr={lr})')\n",
        "    plt.plot(history.history['val_loss'], linestyle='--', label=f'Val Loss (lr={lr})')\n",
        "\n",
        "plt.title('Training and Validation Loss for Different Learning Rates')\n",
        "plt.xlabel('Epochs')\n",
        "plt.ylabel('Loss')\n",
        "plt.legend()\n",
        "plt.grid(True)\n",
        "plt.show()"
      ],
      "metadata": {
        "id": "JuxY3xBjxWYU"
      },
      "execution_count": null,
      "outputs": []
    },
    {
      "cell_type": "code",
      "source": [
        "import matplotlib.pyplot as plt\n",
        "\n",
        "# Plot training and validation loss for each learning rate in separate plots\n",
        "for lr, history in histories.items():\n",
        "    plt.figure(figsize=(12, 8))\n",
        "\n",
        "    # Plot training and validation loss\n",
        "    plt.plot(history.history['loss'], label='Train Loss')\n",
        "    plt.plot(history.history['val_loss'], linestyle='--', label='Val Loss')\n",
        "\n",
        "    # Customize plot\n",
        "    plt.title(f'Training and Validation Loss for Learning Rate {lr}')\n",
        "    plt.xlabel('Epochs')\n",
        "    plt.ylabel('Loss')\n",
        "    plt.legend()\n",
        "    plt.grid(True)\n",
        "\n",
        "    # Show the plot\n",
        "    plt.show()\n"
      ],
      "metadata": {
        "id": "EK47RY7PpVE2"
      },
      "execution_count": null,
      "outputs": []
    },
    {
      "cell_type": "code",
      "source": [
        "import os\n",
        "\n",
        "# Directory to save models\n",
        "save_dir = \"/content/drive/My Drive/models/saved_models\"\n",
        "os.makedirs(save_dir, exist_ok=True)  # Create directory if it doesn't exist\n",
        "\n",
        "for lr, history in histories.items():\n",
        "    # Filepath for each model\n",
        "    model_path = os.path.join(save_dir, f\"cnn_model_lr_{lr}.h5\")\n",
        "\n",
        "    # Save the model\n",
        "    cnn_model.save(model_path)\n",
        "    print(f\"Model with learning rate {lr} saved to {model_path}\")\n"
      ],
      "metadata": {
        "id": "1Asx3FD7qkCB"
      },
      "execution_count": null,
      "outputs": []
    }
  ],
  "metadata": {
    "language_info": {
      "name": "python"
    },
    "colab": {
      "provenance": [],
      "gpuType": "V28"
    },
    "kernelspec": {
      "name": "python3",
      "display_name": "Python 3"
    },
    "accelerator": "TPU"
  },
  "nbformat": 4,
  "nbformat_minor": 0
}