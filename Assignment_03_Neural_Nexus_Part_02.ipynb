{
  "cells": [
    {
      "cell_type": "markdown",
      "metadata": {
        "id": "Y3JoQapuc5jo"
      },
      "source": [
        "## 2 . Compare the network with state-of-the-art networks - Resnet"
      ]
    },
    {
      "cell_type": "markdown",
      "source": [
        "### Mount the google drive"
      ],
      "metadata": {
        "id": "9CaCT1IohtPp"
      }
    },
    {
      "cell_type": "code",
      "source": [
        "from google.colab import drive\n",
        "drive.mount('/content/drive')"
      ],
      "metadata": {
        "id": "N6DUhmgahfqe",
        "outputId": "f2943d07-0fd8-43dd-dd09-5471aa1e1659",
        "colab": {
          "base_uri": "https://localhost:8080/"
        }
      },
      "execution_count": 9,
      "outputs": [
        {
          "output_type": "stream",
          "name": "stdout",
          "text": [
            "Drive already mounted at /content/drive; to attempt to forcibly remount, call drive.mount(\"/content/drive\", force_remount=True).\n"
          ]
        }
      ]
    },
    {
      "cell_type": "markdown",
      "source": [
        "### Load the data"
      ],
      "metadata": {
        "id": "DcRdlI2Jhw8c"
      }
    },
    {
      "cell_type": "code",
      "source": [
        "import tensorflow as tf\n",
        "from tensorflow.keras.applications import ResNet50\n",
        "from tensorflow.keras.layers import Dense, GlobalAveragePooling2D\n",
        "from tensorflow.keras.models import Model\n",
        "from tensorflow.keras.preprocessing.image import ImageDataGenerator\n",
        "from tensorflow.keras.optimizers import Adam\n"
      ],
      "metadata": {
        "id": "PdGdSqpdc8Oy"
      },
      "execution_count": 10,
      "outputs": []
    },
    {
      "cell_type": "code",
      "source": [
        "img_size = (224, 224)\n",
        "batch_size = 32\n",
        "\n",
        "train_dir = '/content/drive/My Drive/EN3150-Assignment-03-CNN/Images/train'\n",
        "validation_dir = '/content/drive/My Drive/EN3150-Assignment-03-CNN/Images/validation'\n",
        "\n",
        "train_datagen = ImageDataGenerator(rescale=1./255)\n",
        "validation_datagen = ImageDataGenerator(rescale=1./255)\n",
        "\n",
        "train_generator = train_datagen.flow_from_directory(\n",
        "    train_dir,\n",
        "    target_size=img_size,\n",
        "    batch_size=batch_size,\n",
        "    class_mode='sparse'\n",
        ")\n",
        "\n",
        "validation_generator = validation_datagen.flow_from_directory(\n",
        "    validation_dir,\n",
        "    target_size=img_size,\n",
        "    batch_size=batch_size,\n",
        "    class_mode='sparse'\n",
        ")\n"
      ],
      "metadata": {
        "id": "1jnlhGmFhAwG",
        "outputId": "aa82a9bc-4e89-4ae3-b238-7fc9b89a00eb",
        "colab": {
          "base_uri": "https://localhost:8080/"
        }
      },
      "execution_count": 12,
      "outputs": [
        {
          "output_type": "stream",
          "name": "stdout",
          "text": [
            "Found 5468 images belonging to 5 classes.\n",
            "Found 1823 images belonging to 5 classes.\n"
          ]
        }
      ]
    },
    {
      "cell_type": "markdown",
      "source": [
        "### Train the model"
      ],
      "metadata": {
        "id": "N0AIejWyh-te"
      }
    },
    {
      "cell_type": "code",
      "source": [
        "# Load pre-trained ResNet50 model without the top layers\n",
        "base_model_resnet = ResNet50(weights='imagenet', include_top=False, input_shape=(224, 224, 3))\n",
        "\n",
        "# Add custom layers on top\n",
        "x = base_model_resnet.output\n",
        "x = GlobalAveragePooling2D()(x)\n",
        "x = Dense(5, activation='softmax')(x)  # 5 classes\n",
        "\n",
        "# Create the model\n",
        "model_resnet = Model(inputs=base_model_resnet.input, outputs=x)\n",
        "\n",
        "# Freeze the base model layers\n",
        "for layer in base_model_resnet.layers:\n",
        "    layer.trainable = False\n",
        "\n",
        "# Compile the model\n",
        "model_resnet.compile(optimizer=Adam(learning_rate=0.0001), loss='sparse_categorical_crossentropy', metrics=['accuracy'])\n",
        "\n",
        "# Train the model\n",
        "history_resnet = model_resnet.fit(\n",
        "    train_generator,\n",
        "    epochs=20,\n",
        "    validation_data=validation_generator,\n",
        "    verbose=1\n",
        ")\n"
      ],
      "metadata": {
        "id": "cOZM3DWJhzdF",
        "outputId": "52048c6d-35ff-41c9-b829-1a438d7a8a94",
        "colab": {
          "base_uri": "https://localhost:8080/"
        }
      },
      "execution_count": 13,
      "outputs": [
        {
          "output_type": "stream",
          "name": "stdout",
          "text": [
            "Epoch 1/20\n",
            "\u001b[1m171/171\u001b[0m \u001b[32m━━━━━━━━━━━━━━━━━━━━\u001b[0m\u001b[37m\u001b[0m \u001b[1m385s\u001b[0m 2s/step - accuracy: 0.3207 - loss: 1.5107 - val_accuracy: 0.4833 - val_loss: 1.3342\n",
            "Epoch 2/20\n",
            "\u001b[1m171/171\u001b[0m \u001b[32m━━━━━━━━━━━━━━━━━━━━\u001b[0m\u001b[37m\u001b[0m \u001b[1m398s\u001b[0m 2s/step - accuracy: 0.4831 - loss: 1.3323 - val_accuracy: 0.4833 - val_loss: 1.3308\n",
            "Epoch 3/20\n",
            "\u001b[1m171/171\u001b[0m \u001b[32m━━━━━━━━━━━━━━━━━━━━\u001b[0m\u001b[37m\u001b[0m \u001b[1m383s\u001b[0m 2s/step - accuracy: 0.4845 - loss: 1.3248 - val_accuracy: 0.4833 - val_loss: 1.3284\n",
            "Epoch 4/20\n",
            "\u001b[1m171/171\u001b[0m \u001b[32m━━━━━━━━━━━━━━━━━━━━\u001b[0m\u001b[37m\u001b[0m \u001b[1m438s\u001b[0m 2s/step - accuracy: 0.4765 - loss: 1.3364 - val_accuracy: 0.4833 - val_loss: 1.3224\n",
            "Epoch 5/20\n",
            "\u001b[1m171/171\u001b[0m \u001b[32m━━━━━━━━━━━━━━━━━━━━\u001b[0m\u001b[37m\u001b[0m \u001b[1m338s\u001b[0m 2s/step - accuracy: 0.4709 - loss: 1.3403 - val_accuracy: 0.4833 - val_loss: 1.3198\n",
            "Epoch 6/20\n",
            "\u001b[1m171/171\u001b[0m \u001b[32m━━━━━━━━━━━━━━━━━━━━\u001b[0m\u001b[37m\u001b[0m \u001b[1m336s\u001b[0m 2s/step - accuracy: 0.4753 - loss: 1.3302 - val_accuracy: 0.4833 - val_loss: 1.3179\n",
            "Epoch 7/20\n",
            "\u001b[1m171/171\u001b[0m \u001b[32m━━━━━━━━━━━━━━━━━━━━\u001b[0m\u001b[37m\u001b[0m \u001b[1m337s\u001b[0m 2s/step - accuracy: 0.4765 - loss: 1.3143 - val_accuracy: 0.4833 - val_loss: 1.3118\n",
            "Epoch 8/20\n",
            "\u001b[1m171/171\u001b[0m \u001b[32m━━━━━━━━━━━━━━━━━━━━\u001b[0m\u001b[37m\u001b[0m \u001b[1m335s\u001b[0m 2s/step - accuracy: 0.4821 - loss: 1.3132 - val_accuracy: 0.4833 - val_loss: 1.3089\n",
            "Epoch 9/20\n",
            "\u001b[1m171/171\u001b[0m \u001b[32m━━━━━━━━━━━━━━━━━━━━\u001b[0m\u001b[37m\u001b[0m \u001b[1m336s\u001b[0m 2s/step - accuracy: 0.4963 - loss: 1.2959 - val_accuracy: 0.4849 - val_loss: 1.3121\n",
            "Epoch 10/20\n",
            "\u001b[1m171/171\u001b[0m \u001b[32m━━━━━━━━━━━━━━━━━━━━\u001b[0m\u001b[37m\u001b[0m \u001b[1m333s\u001b[0m 2s/step - accuracy: 0.4758 - loss: 1.3165 - val_accuracy: 0.4833 - val_loss: 1.3024\n",
            "Epoch 11/20\n",
            "\u001b[1m171/171\u001b[0m \u001b[32m━━━━━━━━━━━━━━━━━━━━\u001b[0m\u001b[37m\u001b[0m \u001b[1m382s\u001b[0m 2s/step - accuracy: 0.4795 - loss: 1.3064 - val_accuracy: 0.4833 - val_loss: 1.2990\n",
            "Epoch 12/20\n",
            "\u001b[1m171/171\u001b[0m \u001b[32m━━━━━━━━━━━━━━━━━━━━\u001b[0m\u001b[37m\u001b[0m \u001b[1m442s\u001b[0m 2s/step - accuracy: 0.4803 - loss: 1.2978 - val_accuracy: 0.4833 - val_loss: 1.2962\n",
            "Epoch 13/20\n",
            "\u001b[1m171/171\u001b[0m \u001b[32m━━━━━━━━━━━━━━━━━━━━\u001b[0m\u001b[37m\u001b[0m \u001b[1m392s\u001b[0m 2s/step - accuracy: 0.4948 - loss: 1.2739 - val_accuracy: 0.4849 - val_loss: 1.2938\n",
            "Epoch 14/20\n",
            "\u001b[1m171/171\u001b[0m \u001b[32m━━━━━━━━━━━━━━━━━━━━\u001b[0m\u001b[37m\u001b[0m \u001b[1m383s\u001b[0m 2s/step - accuracy: 0.4943 - loss: 1.2728 - val_accuracy: 0.4860 - val_loss: 1.2924\n",
            "Epoch 15/20\n",
            "\u001b[1m171/171\u001b[0m \u001b[32m━━━━━━━━━━━━━━━━━━━━\u001b[0m\u001b[37m\u001b[0m \u001b[1m381s\u001b[0m 2s/step - accuracy: 0.4774 - loss: 1.2965 - val_accuracy: 0.4844 - val_loss: 1.2880\n",
            "Epoch 16/20\n",
            "\u001b[1m171/171\u001b[0m \u001b[32m━━━━━━━━━━━━━━━━━━━━\u001b[0m\u001b[37m\u001b[0m \u001b[1m334s\u001b[0m 2s/step - accuracy: 0.4966 - loss: 1.2720 - val_accuracy: 0.4877 - val_loss: 1.2861\n",
            "Epoch 17/20\n",
            "\u001b[1m171/171\u001b[0m \u001b[32m━━━━━━━━━━━━━━━━━━━━\u001b[0m\u001b[37m\u001b[0m \u001b[1m444s\u001b[0m 2s/step - accuracy: 0.4790 - loss: 1.2939 - val_accuracy: 0.4899 - val_loss: 1.2850\n",
            "Epoch 18/20\n",
            "\u001b[1m171/171\u001b[0m \u001b[32m━━━━━━━━━━━━━━━━━━━━\u001b[0m\u001b[37m\u001b[0m \u001b[1m335s\u001b[0m 2s/step - accuracy: 0.4766 - loss: 1.2899 - val_accuracy: 0.4849 - val_loss: 1.2816\n",
            "Epoch 19/20\n",
            "\u001b[1m171/171\u001b[0m \u001b[32m━━━━━━━━━━━━━━━━━━━━\u001b[0m\u001b[37m\u001b[0m \u001b[1m381s\u001b[0m 2s/step - accuracy: 0.4872 - loss: 1.2680 - val_accuracy: 0.4849 - val_loss: 1.2795\n",
            "Epoch 20/20\n",
            "\u001b[1m171/171\u001b[0m \u001b[32m━━━━━━━━━━━━━━━━━━━━\u001b[0m\u001b[37m\u001b[0m \u001b[1m335s\u001b[0m 2s/step - accuracy: 0.4886 - loss: 1.2705 - val_accuracy: 0.4877 - val_loss: 1.2765\n"
          ]
        }
      ]
    },
    {
      "cell_type": "markdown",
      "source": [
        "### Save the model"
      ],
      "metadata": {
        "id": "8MjE4lt_iGtP"
      }
    },
    {
      "cell_type": "code",
      "source": [
        "# Path to save the model\n",
        "save_path = '/content/drive/My Drive/models/model_resnet.h5'\n",
        "\n",
        "# Save the model\n",
        "model_resnet.save(save_path)\n",
        "\n",
        "# Confirm the model has been saved\n",
        "print(\"Model saved successfully!\")\n"
      ],
      "metadata": {
        "id": "_HmmlhsKYhlX",
        "colab": {
          "base_uri": "https://localhost:8080/"
        },
        "outputId": "fab73013-520c-4b97-eb0b-b7f28a7d9b18"
      },
      "execution_count": 14,
      "outputs": [
        {
          "output_type": "stream",
          "name": "stderr",
          "text": [
            "WARNING:absl:You are saving your model as an HDF5 file via `model.save()` or `keras.saving.save_model(model)`. This file format is considered legacy. We recommend using instead the native Keras format, e.g. `model.save('my_model.keras')` or `keras.saving.save_model(model, 'my_model.keras')`. \n"
          ]
        },
        {
          "output_type": "stream",
          "name": "stdout",
          "text": [
            "Model saved successfully!\n"
          ]
        }
      ]
    },
    {
      "cell_type": "markdown",
      "source": [
        "### Plot the traning and validation loss"
      ],
      "metadata": {
        "id": "XLlKNK5oiJNZ"
      }
    },
    {
      "cell_type": "code",
      "source": [
        "import matplotlib.pyplot as plt\n",
        "\n",
        "# Extract loss values from the history object\n",
        "train_loss = history_resnet.history['loss']\n",
        "val_loss = history_resnet.history['val_loss']\n",
        "\n",
        "# Extract the number of epochs\n",
        "epochs = range(1, len(train_loss) + 1)\n",
        "\n",
        "# Plot the training and validation loss\n",
        "plt.figure(figsize=(10, 6))\n",
        "plt.plot(epochs, train_loss, label='Training Loss')\n",
        "plt.plot(epochs, val_loss, label='Validation Loss')\n",
        "plt.title('Training and Validation Loss')\n",
        "plt.xlabel('Epochs')\n",
        "plt.ylabel('Loss')\n",
        "plt.legend()\n",
        "plt.grid(True)\n",
        "plt.show()"
      ],
      "metadata": {
        "id": "Rwf9KskEXQDI",
        "colab": {
          "base_uri": "https://localhost:8080/",
          "height": 564
        },
        "outputId": "95a70f82-f542-4897-f2d5-623cf45bfb0b"
      },
      "execution_count": 16,
      "outputs": [
        {
          "output_type": "display_data",
          "data": {
            "text/plain": [
              "<Figure size 1000x600 with 1 Axes>"
            ],
            "image/png": "[encoded data removed]"
          },
          "metadata": {}
        }
      ]
    },
    {
      "cell_type": "markdown",
      "source": [
        "### Compute the test accuracy"
      ],
      "metadata": {
        "id": "7AfzK1uiiXGZ"
      }
    },
    {
      "cell_type": "code",
      "source": [
        "from tensorflow.keras.preprocessing.image import ImageDataGenerator\n",
        "\n",
        "test_dir = '/content/drive/My Drive/EN3150-Assignment-03-CNN/Images/test'\n",
        "\n",
        "# Create the test data generator\n",
        "test_datagen = ImageDataGenerator(rescale=1./255)\n",
        "\n",
        "# Parameters\n",
        "\n",
        "img_size = (224, 224)  # Replace with your model's expected input size\n",
        "batch_size = 32  # Adjust batch size if needed\n",
        "\n",
        "# Load the test data\n",
        "test_generator = test_datagen.flow_from_directory(\n",
        "    test_dir,\n",
        "    target_size=img_size,\n",
        "    batch_size=batch_size,\n",
        "    class_mode='sparse',\n",
        "    shuffle=False  # No shuffling to preserve order\n",
        ")\n"
      ],
      "metadata": {
        "id": "MjmB9Av8Uq86",
        "colab": {
          "base_uri": "https://localhost:8080/"
        },
        "outputId": "ce210654-e5ef-401f-80b0-50cac127d21e"
      },
      "execution_count": 23,
      "outputs": [
        {
          "output_type": "stream",
          "name": "stdout",
          "text": [
            "Found 1823 images belonging to 5 classes.\n"
          ]
        }
      ]
    },
    {
      "cell_type": "code",
      "source": [
        "from tensorflow.keras.models import load_model\n",
        "from sklearn.metrics import accuracy_score\n",
        "import numpy as np\n",
        "\n",
        "\n",
        "\n",
        "# Get predictions on the test data\n",
        "test_generator.reset()  # Ensure the generator starts from the first batch\n",
        "predictions = model_resnet.predict(test_generator, verbose=1)\n",
        "\n",
        "# Convert predictions to class indices\n",
        "predicted_classes = np.argmax(predictions, axis=1)\n",
        "\n",
        "# Get true labels from the generator\n",
        "true_classes = test_generator.classes\n",
        "\n",
        "# Compute the test accuracy\n",
        "accuracy = accuracy_score(true_classes, predicted_classes)\n",
        "\n",
        "print(f'Test Accuracy: {accuracy * 100:.2f}%')\n"
      ],
      "metadata": {
        "colab": {
          "base_uri": "https://localhost:8080/"
        },
        "id": "UL3rtAmVbdcG",
        "outputId": "fcaeb6f7-04f4-4030-e5de-e503e6baa911"
      },
      "execution_count": 24,
      "outputs": [
        {
          "output_type": "stream",
          "name": "stderr",
          "text": [
            "/usr/local/lib/python3.10/dist-packages/keras/src/trainers/data_adapters/py_dataset_adapter.py:122: UserWarning: Your `PyDataset` class should call `super().__init__(**kwargs)` in its constructor. `**kwargs` can include `workers`, `use_multiprocessing`, `max_queue_size`. Do not pass these arguments to `fit()`, as they will be ignored.\n",
            "  self._warn_if_super_not_called()\n"
          ]
        },
        {
          "output_type": "stream",
          "name": "stdout",
          "text": [
            "\u001b[1m57/57\u001b[0m \u001b[32m━━━━━━━━━━━━━━━━━━━━\u001b[0m\u001b[37m\u001b[0m \u001b[1m320s\u001b[0m 5s/step\n",
            "Test Accuracy: 48.55%\n"
          ]
        }
      ]
    }
  ],
  "metadata": {
    "kernelspec": {
      "display_name": "Python 3",
      "name": "python3"
    },
    "language_info": {
      "name": "python",
      "version": "3.11.2"
    },
    "colab": {
      "provenance": []
    }
  },
  "nbformat": 4,
  "nbformat_minor": 0
}